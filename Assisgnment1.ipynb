{
 "cells": [
  {
   "cell_type": "code",
   "execution_count": 1,
   "id": "89736ae9-9900-479f-9371-25ccb1962fb7",
   "metadata": {},
   "outputs": [],
   "source": [
    "## 1.ASSISGNMENT"
   ]
  },
  {
   "cell_type": "code",
   "execution_count": 2,
   "id": "092575a2-f801-4c95-a85f-f011d52d8db5",
   "metadata": {},
   "outputs": [],
   "source": [
    "#Q.1-:"
   ]
  },
  {
   "cell_type": "code",
   "execution_count": 4,
   "id": "23639f3b-80b3-475e-9c11-b2c64454f88c",
   "metadata": {},
   "outputs": [],
   "source": [
    "#(1.1)"
   ]
  },
  {
   "cell_type": "code",
   "execution_count": 5,
   "id": "3d9ddb09-e05b-4e66-aae0-a2c79214dc9f",
   "metadata": {},
   "outputs": [],
   "source": [
    "a=\"sameer\""
   ]
  },
  {
   "cell_type": "code",
   "execution_count": 6,
   "id": "11afedd3-83d1-45ee-af9e-581c8df9fa5e",
   "metadata": {},
   "outputs": [
    {
     "data": {
      "text/plain": [
       "str"
      ]
     },
     "execution_count": 6,
     "metadata": {},
     "output_type": "execute_result"
    }
   ],
   "source": [
    "type(a)"
   ]
  },
  {
   "cell_type": "code",
   "execution_count": 7,
   "id": "fbf665db-8235-43c4-b478-13d5ff766f82",
   "metadata": {},
   "outputs": [],
   "source": [
    "#(1.2)"
   ]
  },
  {
   "cell_type": "code",
   "execution_count": 8,
   "id": "f22d0b1a-9f16-40ae-b69b-f39e43e42fc3",
   "metadata": {},
   "outputs": [],
   "source": [
    "b = [1,2,3,\"sam\",23.32,True]"
   ]
  },
  {
   "cell_type": "code",
   "execution_count": 9,
   "id": "80c8081b-7304-4096-800c-d8f61d2e50c4",
   "metadata": {},
   "outputs": [
    {
     "data": {
      "text/plain": [
       "list"
      ]
     },
     "execution_count": 9,
     "metadata": {},
     "output_type": "execute_result"
    }
   ],
   "source": [
    "type(b)"
   ]
  },
  {
   "cell_type": "code",
   "execution_count": 10,
   "id": "ac092fd5-5cb4-4025-acfa-28381ced8b10",
   "metadata": {},
   "outputs": [],
   "source": [
    "#(1.3)"
   ]
  },
  {
   "cell_type": "code",
   "execution_count": 11,
   "id": "fcabb334-7e4b-4515-97f2-26f502905237",
   "metadata": {},
   "outputs": [],
   "source": [
    "c = 23.32"
   ]
  },
  {
   "cell_type": "code",
   "execution_count": 12,
   "id": "dbb67d06-68a4-4a70-b15e-2b24c154d718",
   "metadata": {},
   "outputs": [
    {
     "data": {
      "text/plain": [
       "float"
      ]
     },
     "execution_count": 12,
     "metadata": {},
     "output_type": "execute_result"
    }
   ],
   "source": [
    "type(c)"
   ]
  },
  {
   "cell_type": "code",
   "execution_count": 13,
   "id": "12eb85ac-659b-4d60-a27c-fe28f5bc9984",
   "metadata": {},
   "outputs": [],
   "source": [
    "#(1.4)"
   ]
  },
  {
   "cell_type": "code",
   "execution_count": 1,
   "id": "569111e9-e9ee-4eea-bba3-da6019bc5699",
   "metadata": {},
   "outputs": [],
   "source": [
    "d = (1,2,3,4)"
   ]
  },
  {
   "cell_type": "code",
   "execution_count": 2,
   "id": "bd2191ad-065f-4c34-9d25-bc099b387e86",
   "metadata": {},
   "outputs": [
    {
     "data": {
      "text/plain": [
       "tuple"
      ]
     },
     "execution_count": 2,
     "metadata": {},
     "output_type": "execute_result"
    }
   ],
   "source": [
    "type(d)"
   ]
  },
  {
   "cell_type": "code",
   "execution_count": 3,
   "id": "f891edf8-6763-49e8-8bf2-950236a021a0",
   "metadata": {},
   "outputs": [],
   "source": [
    "##Q.2-:"
   ]
  },
  {
   "cell_type": "code",
   "execution_count": 6,
   "id": "fdca0fb7-acb3-4dfc-82f9-685d78d01a9f",
   "metadata": {},
   "outputs": [],
   "source": [
    "#(2.1)"
   ]
  },
  {
   "cell_type": "code",
   "execution_count": 7,
   "id": "bbb6d96d-2cc5-4315-ac53-dd92b0f2803d",
   "metadata": {},
   "outputs": [],
   "source": [
    "var1=' '"
   ]
  },
  {
   "cell_type": "code",
   "execution_count": 8,
   "id": "b7396c3b-60be-477f-9d9c-6301495af78e",
   "metadata": {},
   "outputs": [
    {
     "data": {
      "text/plain": [
       "str"
      ]
     },
     "execution_count": 8,
     "metadata": {},
     "output_type": "execute_result"
    }
   ],
   "source": [
    "type(var1)"
   ]
  },
  {
   "cell_type": "code",
   "execution_count": 9,
   "id": "c7b922e8-3190-4e48-93b1-5a22174c15ba",
   "metadata": {},
   "outputs": [],
   "source": [
    "#(2.2)"
   ]
  },
  {
   "cell_type": "code",
   "execution_count": 10,
   "id": "45277e34-2c60-4df0-915a-c6b2fc2f1a20",
   "metadata": {},
   "outputs": [],
   "source": [
    "var2='[DS,ML,Python]'"
   ]
  },
  {
   "cell_type": "code",
   "execution_count": 11,
   "id": "34707040-d111-4701-bbc4-c1893b4c2882",
   "metadata": {},
   "outputs": [
    {
     "data": {
      "text/plain": [
       "str"
      ]
     },
     "execution_count": 11,
     "metadata": {},
     "output_type": "execute_result"
    }
   ],
   "source": [
    "type(var2)"
   ]
  },
  {
   "cell_type": "code",
   "execution_count": 12,
   "id": "1703380a-cc22-4393-b9f4-c49d37201878",
   "metadata": {},
   "outputs": [],
   "source": [
    "#(2.3)"
   ]
  },
  {
   "cell_type": "code",
   "execution_count": 13,
   "id": "d02f5079-94c4-479a-b2b8-316ab96e09d1",
   "metadata": {},
   "outputs": [],
   "source": [
    "var3=['DS' , 'ML' , 'python']"
   ]
  },
  {
   "cell_type": "code",
   "execution_count": 14,
   "id": "13f6f036-018c-4960-b38d-878bdd5b1021",
   "metadata": {},
   "outputs": [
    {
     "data": {
      "text/plain": [
       "list"
      ]
     },
     "execution_count": 14,
     "metadata": {},
     "output_type": "execute_result"
    }
   ],
   "source": [
    "type(var3)"
   ]
  },
  {
   "cell_type": "code",
   "execution_count": 15,
   "id": "38104145-59d9-40f2-ae52-834623b464de",
   "metadata": {},
   "outputs": [],
   "source": [
    "#(2.4)"
   ]
  },
  {
   "cell_type": "code",
   "execution_count": 16,
   "id": "01263271-ebea-4d64-9651-93b54d282569",
   "metadata": {},
   "outputs": [],
   "source": [
    "var4=1."
   ]
  },
  {
   "cell_type": "code",
   "execution_count": 17,
   "id": "7c0b7121-91f4-42a2-96c9-a84d54e34c5a",
   "metadata": {},
   "outputs": [
    {
     "data": {
      "text/plain": [
       "float"
      ]
     },
     "execution_count": 17,
     "metadata": {},
     "output_type": "execute_result"
    }
   ],
   "source": [
    "type(var4)"
   ]
  },
  {
   "cell_type": "code",
   "execution_count": 18,
   "id": "626f4ee3-3c1e-451a-a491-a21f6ac3db08",
   "metadata": {},
   "outputs": [],
   "source": [
    "##Q.3-:"
   ]
  },
  {
   "cell_type": "code",
   "execution_count": 19,
   "id": "275ff702-c7be-41b3-91e5-73037e55db73",
   "metadata": {},
   "outputs": [],
   "source": [
    "#(3.1)"
   ]
  },
  {
   "cell_type": "code",
   "execution_count": 24,
   "id": "53c9a500-a19c-4cc3-94c0-dad4a7fd44b3",
   "metadata": {},
   "outputs": [
    {
     "data": {
      "text/plain": [
       "3.3333333333333335"
      ]
     },
     "execution_count": 24,
     "metadata": {},
     "output_type": "execute_result"
    }
   ],
   "source": [
    "# '/' this operator is use to get exact float value after division between two int or float values .for example\n",
    "10/3             # 3.333 is the division value here"
   ]
  },
  {
   "cell_type": "code",
   "execution_count": 26,
   "id": "e5fade66-e88c-4d2d-a5ab-abc8c2c4b7c4",
   "metadata": {},
   "outputs": [],
   "source": [
    "#(3.2)"
   ]
  },
  {
   "cell_type": "code",
   "execution_count": 27,
   "id": "c0c18b19-dc46-4e9a-85c3-2dd8a84b45ab",
   "metadata": {},
   "outputs": [
    {
     "data": {
      "text/plain": [
       "1"
      ]
     },
     "execution_count": 27,
     "metadata": {},
     "output_type": "execute_result"
    }
   ],
   "source": [
    "# '%' this operator is use to get remainder after division between two int or float values .for example \n",
    "10%3            # remainder is 1 here"
   ]
  },
  {
   "cell_type": "code",
   "execution_count": 28,
   "id": "79283e93-b549-4ddf-9b0d-e5d1a960555f",
   "metadata": {},
   "outputs": [],
   "source": [
    "#(3.3)"
   ]
  },
  {
   "cell_type": "code",
   "execution_count": 30,
   "id": "20fb694e-569b-4277-843c-99dcff79016e",
   "metadata": {},
   "outputs": [
    {
     "data": {
      "text/plain": [
       "3"
      ]
     },
     "execution_count": 30,
     "metadata": {},
     "output_type": "execute_result"
    }
   ],
   "source": [
    "# '//' this operator is same as '/' but it gives exact int value of division . for example\n",
    "10//3           # 3 is the round value of float 3.33 value into int format "
   ]
  },
  {
   "cell_type": "code",
   "execution_count": 31,
   "id": "88154c91-30e5-4450-ab01-a4d1c133896f",
   "metadata": {},
   "outputs": [],
   "source": [
    "#(3.4)"
   ]
  },
  {
   "cell_type": "code",
   "execution_count": 32,
   "id": "389b4330-6d0e-4a0b-ad12-1dc24c9cc774",
   "metadata": {},
   "outputs": [
    {
     "data": {
      "text/plain": [
       "1000"
      ]
     },
     "execution_count": 32,
     "metadata": {},
     "output_type": "execute_result"
    }
   ],
   "source": [
    "# '**' this operator is use to get the power of any int or float value . for example \n",
    "10**3       # 10 to the power 3 we get 10x10x10 which is 1000"
   ]
  },
  {
   "cell_type": "code",
   "execution_count": 33,
   "id": "d53f0032-5d77-4b36-b295-cc14e4e07319",
   "metadata": {},
   "outputs": [],
   "source": [
    "##Q.4-:"
   ]
  },
  {
   "cell_type": "code",
   "execution_count": 35,
   "id": "b0a3cb0e-c824-427f-b488-0485d00557da",
   "metadata": {},
   "outputs": [],
   "source": [
    "l=[12,12.22,True,'Alakh sir',[1,2,3],(1,2,3),{1,2,3},786,78.6,\"sudhanshu sir\"]"
   ]
  },
  {
   "cell_type": "code",
   "execution_count": 38,
   "id": "90c54952-6383-44e9-a20e-c4fe5768aecb",
   "metadata": {},
   "outputs": [
    {
     "data": {
      "text/plain": [
       "10"
      ]
     },
     "execution_count": 38,
     "metadata": {},
     "output_type": "execute_result"
    }
   ],
   "source": [
    "len(l)"
   ]
  },
  {
   "cell_type": "code",
   "execution_count": 42,
   "id": "0b3c8a04-2c7e-437d-8afe-2278b35ab235",
   "metadata": {},
   "outputs": [
    {
     "name": "stdout",
     "output_type": "stream",
     "text": [
      "12\n",
      "<class 'int'>\n",
      "12.22\n",
      "<class 'float'>\n",
      "True\n",
      "<class 'bool'>\n",
      "Alakh sir\n",
      "<class 'str'>\n",
      "[1, 2, 3]\n",
      "<class 'list'>\n",
      "(1, 2, 3)\n",
      "<class 'tuple'>\n",
      "{1, 2, 3}\n",
      "<class 'set'>\n",
      "786\n",
      "<class 'int'>\n",
      "78.6\n",
      "<class 'float'>\n",
      "sudhanshu sir\n",
      "<class 'str'>\n"
     ]
    }
   ],
   "source": [
    "for i in l:\n",
    "    print(i)\n",
    "    print(type(i))"
   ]
  },
  {
   "cell_type": "code",
   "execution_count": 43,
   "id": "6965451e-fb5c-4823-8353-589bae901e54",
   "metadata": {},
   "outputs": [],
   "source": [
    "##Q.5-:"
   ]
  },
  {
   "cell_type": "code",
   "execution_count": 2,
   "id": "6a47df7f-67dd-4c69-892c-e84fc5c99e6b",
   "metadata": {},
   "outputs": [
    {
     "name": "stdin",
     "output_type": "stream",
     "text": [
      "please enter value of A 625\n",
      "please enter value of B 5\n"
     ]
    },
    {
     "name": "stdout",
     "output_type": "stream",
     "text": [
      "A is divisible by B\n",
      "A is divisible by B  4 times\n"
     ]
    }
   ],
   "source": [
    "A=int(input(\"please enter value of A\" ))\n",
    "B=int(input(\"please enter value of B\"))\n",
    "count=0\n",
    "if A%B==0:\n",
    "    print(\"A is divisible by B\")\n",
    "    while A%B==0:\n",
    "        \n",
    "        count+=1\n",
    "        A/=B\n",
    "    print(\"A is divisible by B \",count,\"times\")\n",
    "else:\n",
    "    print(\"A is not divisible by B\")\n",
    "\n",
    "    "
   ]
  },
  {
   "cell_type": "code",
   "execution_count": null,
   "id": "aa7284d4-e2da-47e2-9746-97964496e0ef",
   "metadata": {},
   "outputs": [],
   "source": [
    "##Q6:-"
   ]
  },
  {
   "cell_type": "code",
   "execution_count": 4,
   "id": "3d3324d9-e672-4ea6-8d67-fc84ca5d026d",
   "metadata": {},
   "outputs": [],
   "source": [
    "M=[1,2,3,4,5,6,7,8,9,10,11,12,13,14,15,16,17,18,19,20,21,22,23,24,25]"
   ]
  },
  {
   "cell_type": "code",
   "execution_count": 5,
   "id": "85922b6a-155b-4056-b46a-21c156e23459",
   "metadata": {},
   "outputs": [
    {
     "data": {
      "text/plain": [
       "25"
      ]
     },
     "execution_count": 5,
     "metadata": {},
     "output_type": "execute_result"
    }
   ],
   "source": [
    "len(M)"
   ]
  },
  {
   "cell_type": "code",
   "execution_count": 6,
   "id": "62a572a1-5b98-4a98-8084-070c4ad5d9c9",
   "metadata": {},
   "outputs": [
    {
     "name": "stdout",
     "output_type": "stream",
     "text": [
      "1 is not divisible by 3\n",
      "2 is not divisible by 3\n",
      "3 is divisile by 3\n",
      "4 is not divisible by 3\n",
      "5 is not divisible by 3\n",
      "6 is divisile by 3\n",
      "7 is not divisible by 3\n",
      "8 is not divisible by 3\n",
      "9 is divisile by 3\n",
      "10 is not divisible by 3\n",
      "11 is not divisible by 3\n",
      "12 is divisile by 3\n",
      "13 is not divisible by 3\n",
      "14 is not divisible by 3\n",
      "15 is divisile by 3\n",
      "16 is not divisible by 3\n",
      "17 is not divisible by 3\n",
      "18 is divisile by 3\n",
      "19 is not divisible by 3\n",
      "20 is not divisible by 3\n",
      "21 is divisile by 3\n",
      "22 is not divisible by 3\n",
      "23 is not divisible by 3\n",
      "24 is divisile by 3\n",
      "25 is not divisible by 3\n"
     ]
    }
   ],
   "source": [
    "for i in M:\n",
    "    if i%3==0:\n",
    "        print( i , \"is divisile by 3\")\n",
    "    else:\n",
    "        print( i , \"is not divisible by 3\")"
   ]
  },
  {
   "cell_type": "code",
   "execution_count": 7,
   "id": "9a5b4a44-6582-4ab2-a17c-2809b14171a1",
   "metadata": {},
   "outputs": [],
   "source": [
    "##Q7:-"
   ]
  },
  {
   "cell_type": "code",
   "execution_count": 8,
   "id": "d45fc7bd-fdba-4fa8-944d-98b6a7a1849f",
   "metadata": {},
   "outputs": [],
   "source": [
    " # Mutable data types are those type of data types in which we change the elements or we can  edit them any time or any where . \n",
    " # for example - list is a mutable data type in which we can change or edit any element."
   ]
  },
  {
   "cell_type": "code",
   "execution_count": 9,
   "id": "3f92d0a8-abb9-4eea-9d21-ad643d9964a4",
   "metadata": {},
   "outputs": [],
   "source": [
    "l1=[1,2,3,\"sam\",\"pwskills\",\"raju\"]"
   ]
  },
  {
   "cell_type": "code",
   "execution_count": 10,
   "id": "15607b81-a8eb-4dbb-8357-875286f7981d",
   "metadata": {},
   "outputs": [
    {
     "data": {
      "text/plain": [
       "2"
      ]
     },
     "execution_count": 10,
     "metadata": {},
     "output_type": "execute_result"
    }
   ],
   "source": [
    "l1[1]"
   ]
  },
  {
   "cell_type": "code",
   "execution_count": 11,
   "id": "5457e128-33d2-4def-b5ee-a215dc9b940c",
   "metadata": {},
   "outputs": [],
   "source": [
    "l1[1]=\"vha Modi ji\""
   ]
  },
  {
   "cell_type": "code",
   "execution_count": 12,
   "id": "49882645-dc02-4ed3-8c3a-03eac6bae8d8",
   "metadata": {},
   "outputs": [
    {
     "data": {
      "text/plain": [
       "'vha Modi ji'"
      ]
     },
     "execution_count": 12,
     "metadata": {},
     "output_type": "execute_result"
    }
   ],
   "source": [
    "l1[1]"
   ]
  },
  {
   "cell_type": "code",
   "execution_count": 13,
   "id": "8eac4c9c-92fc-4e6b-9cf6-fb2a33b4ba5b",
   "metadata": {},
   "outputs": [
    {
     "data": {
      "text/plain": [
       "[1, 'vha Modi ji', 3, 'sam', 'pwskills', 'raju']"
      ]
     },
     "execution_count": 13,
     "metadata": {},
     "output_type": "execute_result"
    }
   ],
   "source": [
    "l1"
   ]
  },
  {
   "cell_type": "code",
   "execution_count": 14,
   "id": "b456dcc9-6e07-468a-9e22-d4df6188cf8a",
   "metadata": {},
   "outputs": [],
   "source": [
    "# here we can see that l1 list index 2 element is changed without any problem."
   ]
  },
  {
   "cell_type": "code",
   "execution_count": 15,
   "id": "d139e401-4c37-439f-a37d-81f738ef52c0",
   "metadata": {},
   "outputs": [],
   "source": [
    "# Immutable data types are those type of data types in which we can not change or edit any element in the data type.\n",
    "# for example - string data type is a type of data type in which we can not change any element ."
   ]
  },
  {
   "cell_type": "code",
   "execution_count": 16,
   "id": "b0a1b1ab-7355-401f-ade0-f63dfe2220b7",
   "metadata": {},
   "outputs": [],
   "source": [
    "s1=\"Mahatma Gandhi\""
   ]
  },
  {
   "cell_type": "code",
   "execution_count": 17,
   "id": "695ad389-d3b1-4e77-821c-f67141fa96f0",
   "metadata": {},
   "outputs": [
    {
     "data": {
      "text/plain": [
       "'Mahatma Gandhi'"
      ]
     },
     "execution_count": 17,
     "metadata": {},
     "output_type": "execute_result"
    }
   ],
   "source": [
    "s1"
   ]
  },
  {
   "cell_type": "code",
   "execution_count": 18,
   "id": "3661624e-d8df-4789-80af-e0e981f02a09",
   "metadata": {},
   "outputs": [
    {
     "data": {
      "text/plain": [
       "'M'"
      ]
     },
     "execution_count": 18,
     "metadata": {},
     "output_type": "execute_result"
    }
   ],
   "source": [
    "s1[0]"
   ]
  },
  {
   "cell_type": "code",
   "execution_count": 19,
   "id": "1df86fde-2f64-43b8-b6b9-385127524c5f",
   "metadata": {},
   "outputs": [
    {
     "ename": "TypeError",
     "evalue": "'str' object does not support item assignment",
     "output_type": "error",
     "traceback": [
      "\u001b[0;31m---------------------------------------------------------------------------\u001b[0m",
      "\u001b[0;31mTypeError\u001b[0m                                 Traceback (most recent call last)",
      "Cell \u001b[0;32mIn[19], line 1\u001b[0m\n\u001b[0;32m----> 1\u001b[0m \u001b[43ms1\u001b[49m\u001b[43m[\u001b[49m\u001b[38;5;241;43m0\u001b[39;49m\u001b[43m]\u001b[49m\u001b[38;5;241m=\u001b[39mA\n",
      "\u001b[0;31mTypeError\u001b[0m: 'str' object does not support item assignment"
     ]
    }
   ],
   "source": [
    "s1[0]=A"
   ]
  },
  {
   "cell_type": "code",
   "execution_count": null,
   "id": "e4b33c9f-7101-430e-aee7-4c86048c25f6",
   "metadata": {},
   "outputs": [],
   "source": [
    "# Here we can see that str is a immutable data type."
   ]
  }
 ],
 "metadata": {
  "kernelspec": {
   "display_name": "Python 3 (ipykernel)",
   "language": "python",
   "name": "python3"
  },
  "language_info": {
   "codemirror_mode": {
    "name": "ipython",
    "version": 3
   },
   "file_extension": ".py",
   "mimetype": "text/x-python",
   "name": "python",
   "nbconvert_exporter": "python",
   "pygments_lexer": "ipython3",
   "version": "3.10.8"
  }
 },
 "nbformat": 4,
 "nbformat_minor": 5
}
